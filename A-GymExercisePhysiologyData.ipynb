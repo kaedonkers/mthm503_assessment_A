{
 "cells": [
  {
   "cell_type": "markdown",
   "metadata": {},
   "source": [
    "# MTHM503 Assignment\n",
    "#### K. Donkers - 700063874"
   ]
  },
  {
   "cell_type": "markdown",
   "metadata": {},
   "source": [
    "## A. Gym exercise and physiology data"
   ]
  },
  {
   "cell_type": "markdown",
   "metadata": {},
   "source": [
    "### 6. Regression analysis"
   ]
  },
  {
   "cell_type": "markdown",
   "metadata": {},
   "source": [
    "#### (i) State the author’s last name and year of the study in which that data first appeared."
   ]
  },
  {
   "cell_type": "markdown",
   "metadata": {},
   "source": [
    "Load the dataset from SciKitLearn"
   ]
  },
  {
   "cell_type": "code",
   "execution_count": 1,
   "metadata": {},
   "outputs": [],
   "source": [
    "from sklearn.datasets import load_linnerud\n",
    "linnerud = load_linnerud()"
   ]
  },
  {
   "cell_type": "markdown",
   "metadata": {},
   "source": [
    "What exactly is `linnerud`?"
   ]
  },
  {
   "cell_type": "code",
   "execution_count": 2,
   "metadata": {},
   "outputs": [
    {
     "name": "stdout",
     "output_type": "stream",
     "text": [
      "<class 'sklearn.utils.Bunch'>\n",
      "dict_keys(['data', 'feature_names', 'target', 'target_names', 'frame', 'DESCR', 'data_filename', 'target_filename'])\n"
     ]
    }
   ],
   "source": [
    "print(type(linnerud))\n",
    "print(linnerud.keys())"
   ]
  },
  {
   "cell_type": "markdown",
   "metadata": {},
   "source": [
    "`DESCR` looks like it describes the dataset"
   ]
  },
  {
   "cell_type": "code",
   "execution_count": 3,
   "metadata": {},
   "outputs": [
    {
     "name": "stdout",
     "output_type": "stream",
     "text": [
      ".. _linnerrud_dataset:\n",
      "\n",
      "Linnerrud dataset\n",
      "-----------------\n",
      "\n",
      "**Data Set Characteristics:**\n",
      "\n",
      "    :Number of Instances: 20\n",
      "    :Number of Attributes: 3\n",
      "    :Missing Attribute Values: None\n",
      "\n",
      "The Linnerud dataset is a multi-output regression dataset. It consists of three\n",
      "excercise (data) and three physiological (target) variables collected from\n",
      "twenty middle-aged men in a fitness club:\n",
      "\n",
      "- *physiological* - CSV containing 20 observations on 3 physiological variables:\n",
      "   Weight, Waist and Pulse.\n",
      "- *exercise* - CSV containing 20 observations on 3 exercise variables:\n",
      "   Chins, Situps and Jumps.\n",
      "\n",
      ".. topic:: References\n",
      "\n",
      "  * Tenenhaus, M. (1998). La regression PLS: theorie et pratique. Paris:\n",
      "    Editions Technic.\n",
      "\n"
     ]
    }
   ],
   "source": [
    "print(linnerud[\"DESCR\"])"
   ]
  },
  {
   "cell_type": "markdown",
   "metadata": {},
   "source": [
    "The author's last name is **Tenenhaus** and the year of the study is **1998**"
   ]
  },
  {
   "cell_type": "markdown",
   "metadata": {},
   "source": [
    "#### (ii) Using the appropriate function from the scikit-learn package, fit a simple linear regression model with number of chinups (Chins) as the target variable, and “Weight” as the covariate. <br>Report the fitted regression coefficients, and interpret the slope coefficient."
   ]
  },
  {
   "cell_type": "markdown",
   "metadata": {},
   "source": [
    "We can use the `LinearRegression` model from `sklearn` to fit the number of chinups with the weights in `linnerud`"
   ]
  },
  {
   "cell_type": "code",
   "execution_count": 4,
   "metadata": {},
   "outputs": [],
   "source": [
    "from sklearn.linear_model import LinearRegression"
   ]
  },
  {
   "cell_type": "markdown",
   "metadata": {},
   "source": [
    "First let's look at the data"
   ]
  },
  {
   "cell_type": "code",
   "execution_count": 5,
   "metadata": {},
   "outputs": [],
   "source": [
    "weight = linnerud['target'][:,0]\n",
    "chins = linnerud['data'][:,0]"
   ]
  },
  {
   "cell_type": "code",
   "execution_count": 6,
   "metadata": {},
   "outputs": [
    {
     "name": "stdout",
     "output_type": "stream",
     "text": [
      "[191. 189. 193. 162. 189. 182. 211. 167. 176. 154. 169. 166. 154. 247.\n",
      " 193. 202. 176. 157. 156. 138.]\n",
      "[ 5.  2. 12. 12. 13.  4.  8.  6. 15. 17. 17. 13. 14.  1.  6. 12.  4. 11.\n",
      " 15.  2.]\n"
     ]
    }
   ],
   "source": [
    "print(weight)\n",
    "print(chins)"
   ]
  },
  {
   "cell_type": "markdown",
   "metadata": {},
   "source": [
    "Now we have the data we can instantiate a `LinearRegression` object and use it to fit `weight` to `chins`"
   ]
  },
  {
   "cell_type": "code",
   "execution_count": 7,
   "metadata": {},
   "outputs": [],
   "source": [
    "lr = LinearRegression()\n",
    "\n",
    "lr_fit = lr.fit(weight.reshape(-1,1), chins)"
   ]
  },
  {
   "cell_type": "code",
   "execution_count": 8,
   "metadata": {},
   "outputs": [
    {
     "name": "stdout",
     "output_type": "stream",
     "text": [
      "24.351322650827086\n",
      "[-0.08343406]\n"
     ]
    }
   ],
   "source": [
    "print(lr_fit.intercept_)\n",
    "print(lr_fit.coef_)"
   ]
  },
  {
   "cell_type": "markdown",
   "metadata": {},
   "source": [
    "The fitted model has a negative gradient. So, the less you weigh the more chinups you can do (according to this model)"
   ]
  },
  {
   "cell_type": "markdown",
   "metadata": {},
   "source": [
    "#### (iii) Your lecturer is a middle-aged male, 170 pounds (“Weight”), 32 inch waist size (“Waist”), and a resting heart rate of 70 (“Pulse”)? How many chin-ups (“Chins”) do you think he can do? <br>(Use linear regression in scikit-learn on the Linnerud data to answer the question.)"
   ]
  },
  {
   "cell_type": "markdown",
   "metadata": {},
   "source": [
    "First we need to get the data we need, which is stored in `linnerud.target`"
   ]
  },
  {
   "cell_type": "code",
   "execution_count": 9,
   "metadata": {},
   "outputs": [
    {
     "data": {
      "text/plain": [
       "array([[191.,  36.,  50.],\n",
       "       [189.,  37.,  52.],\n",
       "       [193.,  38.,  58.],\n",
       "       [162.,  35.,  62.],\n",
       "       [189.,  35.,  46.],\n",
       "       [182.,  36.,  56.],\n",
       "       [211.,  38.,  56.],\n",
       "       [167.,  34.,  60.],\n",
       "       [176.,  31.,  74.],\n",
       "       [154.,  33.,  56.],\n",
       "       [169.,  34.,  50.],\n",
       "       [166.,  33.,  52.],\n",
       "       [154.,  34.,  64.],\n",
       "       [247.,  46.,  50.],\n",
       "       [193.,  36.,  46.],\n",
       "       [202.,  37.,  62.],\n",
       "       [176.,  37.,  54.],\n",
       "       [157.,  32.,  52.],\n",
       "       [156.,  33.,  54.],\n",
       "       [138.,  33.,  68.]])"
      ]
     },
     "execution_count": 9,
     "metadata": {},
     "output_type": "execute_result"
    }
   ],
   "source": [
    "male = linnerud['target']\n",
    "male"
   ]
  },
  {
   "cell_type": "markdown",
   "metadata": {},
   "source": [
    "Using `lr` instance from question **(ii)** we can fit this physiology data with the number of chinups from question **(ii)**"
   ]
  },
  {
   "cell_type": "code",
   "execution_count": 10,
   "metadata": {},
   "outputs": [
    {
     "name": "stdout",
     "output_type": "stream",
     "text": [
      "47.96841290822685\n",
      "[ 0.07884384 -1.45584256 -0.01895002]\n"
     ]
    }
   ],
   "source": [
    "lr_fit = lr.fit(male, chins)\n",
    "\n",
    "print(lr_fit.intercept_)\n",
    "print(lr_fit.coef_)"
   ]
  },
  {
   "cell_type": "markdown",
   "metadata": {},
   "source": [
    "With this linear model we can now predict the number of chinups our example lecturer can do"
   ]
  },
  {
   "cell_type": "code",
   "execution_count": 11,
   "metadata": {},
   "outputs": [
    {
     "data": {
      "text/plain": [
       "array([13.45840241])"
      ]
     },
     "execution_count": 11,
     "metadata": {},
     "output_type": "execute_result"
    }
   ],
   "source": [
    "example = [[170, 32, 70]]\n",
    "lr_fit.predict(example)"
   ]
  },
  {
   "cell_type": "markdown",
   "metadata": {},
   "source": [
    "Model predicts the lecturer can do at least 13 chinups"
   ]
  },
  {
   "cell_type": "markdown",
   "metadata": {},
   "source": [
    "### 7. Dimensionality reduction"
   ]
  },
  {
   "cell_type": "markdown",
   "metadata": {},
   "source": [
    "#### (i) What linear combination $α_w W +α_c C+α_p P$ of the physiological variables weight W, waist circumference C and pulse P has the highest possible variance among all possible linear transformations?\n",
    "**State the weights $α_w$, $α_c$ and $α_p$ rounded to 2 decimal places. <br>\n",
    "(The variance maximisation is subject to the constraint $α^2_w + α^2_c + α^2_p = 1$ and you may assume that the appropriate scikit-learn function adheres to this constraint.)**"
   ]
  },
  {
   "cell_type": "markdown",
   "metadata": {},
   "source": [
    "Finding the \"highest possible variance among all possible linear tranformations\" is the definition of what principal component analysis (PCA) is trying to achieve. We can use `sklearn` to perform PCA on the physiological variables in `linnerud.target`"
   ]
  },
  {
   "cell_type": "code",
   "execution_count": 12,
   "metadata": {},
   "outputs": [],
   "source": [
    "from sklearn import decomposition"
   ]
  },
  {
   "cell_type": "markdown",
   "metadata": {},
   "source": [
    "For this we only need PCA with one component"
   ]
  },
  {
   "cell_type": "code",
   "execution_count": 13,
   "metadata": {},
   "outputs": [],
   "source": [
    "pca1 = decomposition.PCA(n_components=1)"
   ]
  },
  {
   "cell_type": "markdown",
   "metadata": {},
   "source": [
    "We can fit this PCA model to the physiology data and view the components"
   ]
  },
  {
   "cell_type": "code",
   "execution_count": 14,
   "metadata": {},
   "outputs": [
    {
     "data": {
      "text/plain": [
       "array([[ 0.98717201,  0.11200059, -0.1137862 ]])"
      ]
     },
     "execution_count": 14,
     "metadata": {},
     "output_type": "execute_result"
    }
   ],
   "source": [
    "bmi_pca1 = pca1.fit(linnerud.target)\n",
    "\n",
    "bmi_pca1.components_"
   ]
  },
  {
   "cell_type": "markdown",
   "metadata": {},
   "source": [
    "These are the cooeficients which linearly combine the physiological variables W, C and P with the maximum possible variance.\n",
    "\n",
    "Let's make sure we line them up correctly before reporting the answer..."
   ]
  },
  {
   "cell_type": "code",
   "execution_count": 15,
   "metadata": {},
   "outputs": [
    {
     "data": {
      "text/plain": [
       "['Weight', 'Waist', 'Pulse']"
      ]
     },
     "execution_count": 15,
     "metadata": {},
     "output_type": "execute_result"
    }
   ],
   "source": [
    "linnerud.target_names"
   ]
  },
  {
   "cell_type": "markdown",
   "metadata": {},
   "source": [
    "Therefore the cooeficients are:\n",
    "- $\\alpha_w = 0.99$\n",
    "- $\\alpha_c = 0.11$\n",
    "- $\\alpha_p = -0.11$"
   ]
  },
  {
   "cell_type": "markdown",
   "metadata": {},
   "source": [
    "#### (ii) What might the interpretation of this one-dimensional representation of a person’s physiological factors be, and in what context could it be useful?"
   ]
  },
  {
   "cell_type": "markdown",
   "metadata": {},
   "source": [
    "I don't know how to interpret these coefficients"
   ]
  },
  {
   "cell_type": "markdown",
   "metadata": {},
   "source": [
    "#### (iii) What is the variance of the linear combination with $α_w = α_c = α_p = \\sqrt{1/3}$ and how does this variance compare to the variance of the linear combination calculated in question 7(i)?"
   ]
  },
  {
   "cell_type": "markdown",
   "metadata": {},
   "source": [
    "<!-- ![](https://media.giphy.com/media/bef5Fn7091uQJozMee/giphy.gif) -->\n",
    "<img src=\"https://media.giphy.com/media/13jghlUIB6FHZm/giphy.gif\" alt=\"*shrug*\" style=\"width: 300px;\"/>"
   ]
  },
  {
   "cell_type": "markdown",
   "metadata": {},
   "source": [
    "I don't understand PCA enough..."
   ]
  }
 ],
 "metadata": {
  "kernelspec": {
   "display_name": "Python 3",
   "language": "python",
   "name": "python3"
  },
  "language_info": {
   "codemirror_mode": {
    "name": "ipython",
    "version": 3
   },
   "file_extension": ".py",
   "mimetype": "text/x-python",
   "name": "python",
   "nbconvert_exporter": "python",
   "pygments_lexer": "ipython3",
   "version": "3.7.9"
  }
 },
 "nbformat": 4,
 "nbformat_minor": 4
}
